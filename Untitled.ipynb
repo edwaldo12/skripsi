{
 "cells": [
  {
   "cell_type": "code",
   "execution_count": 7,
   "id": "6c921e84",
   "metadata": {},
   "outputs": [
    {
     "name": "stdout",
     "output_type": "stream",
     "text": [
      "1\n",
      "2\n",
      "3\n",
      "4\n",
      "5\n",
      "6\n",
      "7\n",
      "8\n",
      "9\n"
     ]
    }
   ],
   "source": [
    "i = 10\n",
    "\n",
    "for x in range (i) :\n",
    "    if (x%1 == 0 & x%3 == 0) : \n",
    "        if (x!=0) :\n",
    "            print(x)\n",
    "    "
   ]
  },
  {
   "cell_type": "code",
   "execution_count": 45,
   "id": "bfdcf082",
   "metadata": {},
   "outputs": [
    {
     "name": "stdout",
     "output_type": "stream",
     "text": [
      "Hello my name is Edwaldo\n"
     ]
    }
   ],
   "source": [
    "class Person:\n",
    "    def __init__(self,name,age):\n",
    "        self.name = name\n",
    "        self.age = age\n",
    "        \n",
    "    def myfunc(self):\n",
    "        print(\"Hello my name is \" + self.name)\n",
    "\n",
    "p1 = Person(\"Edwaldo\",10)\n",
    "p1.myfunc()"
   ]
  },
  {
   "cell_type": "code",
   "execution_count": 1,
   "id": "6da4e746",
   "metadata": {},
   "outputs": [
    {
     "name": "stdout",
     "output_type": "stream",
     "text": [
      "The Shape of the image is: (214, 236, 3)\n",
      "The image as array is:\n",
      "[[[32 22 30]\n",
      "  [33 23 31]\n",
      "  [33 24 29]\n",
      "  ...\n",
      "  [40 45 48]\n",
      "  [47 52 55]\n",
      "  [49 54 57]]\n",
      "\n",
      " [[32 22 30]\n",
      "  [32 22 30]\n",
      "  [32 22 30]\n",
      "  ...\n",
      "  [42 47 50]\n",
      "  [48 53 56]\n",
      "  [49 54 57]]\n",
      "\n",
      " [[29 22 29]\n",
      "  [31 21 29]\n",
      "  [31 21 29]\n",
      "  ...\n",
      "  [44 49 52]\n",
      "  [48 53 56]\n",
      "  [49 54 57]]\n",
      "\n",
      " ...\n",
      "\n",
      " [[15 15 13]\n",
      "  [13 13 11]\n",
      "  [10 10  8]\n",
      "  ...\n",
      "  [77 65 53]\n",
      "  [79 66 60]\n",
      "  [82 68 67]]\n",
      "\n",
      " [[14 14 12]\n",
      "  [12 12 10]\n",
      "  [ 9  9  7]\n",
      "  ...\n",
      "  [83 71 55]\n",
      "  [80 67 58]\n",
      "  [78 65 59]]\n",
      "\n",
      " [[13 13 11]\n",
      "  [11 11  9]\n",
      "  [ 9  9  7]\n",
      "  ...\n",
      "  [90 79 59]\n",
      "  [84 72 58]\n",
      "  [79 66 57]]]\n"
     ]
    }
   ],
   "source": [
    "import matplotlib.image as image\n",
    "img=image.imread('Species/Test_Set/Anthias anthias/anthias_anthias-1700.jpg')\n",
    "print('The Shape of the image is:',img.shape)\n",
    "print('The image as array is:')\n",
    "print(img)"
   ]
  },
  {
   "cell_type": "code",
   "execution_count": 1,
   "id": "bf33dedf",
   "metadata": {},
   "outputs": [
    {
     "name": "stdout",
     "output_type": "stream",
     "text": [
      "The Shape of the image is: 151512\n",
      "The image as array is:\n",
      "[[[32 22 30]\n",
      "  [33 23 31]\n",
      "  [33 24 29]\n",
      "  ...\n",
      "  [40 45 48]\n",
      "  [47 52 55]\n",
      "  [49 54 57]]\n",
      "\n",
      " [[32 22 30]\n",
      "  [32 22 30]\n",
      "  [32 22 30]\n",
      "  ...\n",
      "  [42 47 50]\n",
      "  [48 53 56]\n",
      "  [49 54 57]]\n",
      "\n",
      " [[29 22 29]\n",
      "  [31 21 29]\n",
      "  [31 21 29]\n",
      "  ...\n",
      "  [44 49 52]\n",
      "  [48 53 56]\n",
      "  [49 54 57]]\n",
      "\n",
      " ...\n",
      "\n",
      " [[15 15 13]\n",
      "  [13 13 11]\n",
      "  [10 10  8]\n",
      "  ...\n",
      "  [77 65 53]\n",
      "  [79 66 60]\n",
      "  [82 68 67]]\n",
      "\n",
      " [[14 14 12]\n",
      "  [12 12 10]\n",
      "  [ 9  9  7]\n",
      "  ...\n",
      "  [83 71 55]\n",
      "  [80 67 58]\n",
      "  [78 65 59]]\n",
      "\n",
      " [[13 13 11]\n",
      "  [11 11  9]\n",
      "  [ 9  9  7]\n",
      "  ...\n",
      "  [90 79 59]\n",
      "  [84 72 58]\n",
      "  [79 66 57]]]\n"
     ]
    }
   ],
   "source": [
    "import matplotlib.image as image\n",
    "img=image.imread('Species/Test_Set/Anthias anthias/anthias_anthias-1700.jpg')\n",
    "print('The Shape of the image is:',img.size)\n",
    "print('The image as array is:')\n",
    "print(img)"
   ]
  },
  {
   "cell_type": "code",
   "execution_count": 1,
   "id": "e129c48f",
   "metadata": {},
   "outputs": [
    {
     "name": "stdout",
     "output_type": "stream",
     "text": [
      "[5.29239776e-260 1.11688278e-308 5.18067355e-318 ... 5.18065379e-318\n",
      " 0.00000000e+000 0.00000000e+000]\n"
     ]
    }
   ],
   "source": [
    "import numpy as np \n",
    "myarray = np.fromfile('ResNet50-SGD.hdf5', dtype=float)\n",
    "print(myarray)"
   ]
  },
  {
   "cell_type": "code",
   "execution_count": null,
   "id": "632882aa",
   "metadata": {},
   "outputs": [],
   "source": []
  }
 ],
 "metadata": {
  "kernelspec": {
   "display_name": "Python 3 (ipykernel)",
   "language": "python",
   "name": "python3"
  },
  "language_info": {
   "codemirror_mode": {
    "name": "ipython",
    "version": 3
   },
   "file_extension": ".py",
   "mimetype": "text/x-python",
   "name": "python",
   "nbconvert_exporter": "python",
   "pygments_lexer": "ipython3",
   "version": "3.8.8"
  }
 },
 "nbformat": 4,
 "nbformat_minor": 5
}
